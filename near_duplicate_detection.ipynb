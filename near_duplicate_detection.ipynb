{
 "cells": [
  {
   "cell_type": "code",
   "execution_count": 1,
   "metadata": {
    "collapsed": false
   },
   "outputs": [
    {
     "name": "stdout",
     "output_type": "stream",
     "text": [
      "[nltk_data] Downloading package stopwords to /home/user/nltk_data...\n",
      "[nltk_data]   Package stopwords is already up-to-date!\n"
     ]
    }
   ],
   "source": [
    "from itertools import combinations\n",
    "import pandas as pd\n",
    "import numpy as np\n",
    "from scipy.sparse import csr_matrix, vstack\n",
    "from sklearn.feature_extraction.text import TfidfVectorizer\n",
    "from sklearn.metrics.pairwise import cosine_similarity\n",
    "import pymongo\n",
    "import nltk\n",
    "from nltk.corpus import stopwords\n",
    "import pymorphy2\n",
    "from tqdm import tqdm_notebook\n",
    "nltk.download('stopwords')\n",
    "stop = stopwords.words('russian')\n",
    "\n",
    "from news.settings import MONGO_DB, MONGO_URI"
   ]
  },
  {
   "cell_type": "code",
   "execution_count": 2,
   "metadata": {
    "collapsed": true
   },
   "outputs": [],
   "source": [
    "morph = pymorphy2.MorphAnalyzer()\n",
    "def lemmatize(token):\n",
    "    return morph.parse(token)[0].normal_form"
   ]
  },
  {
   "cell_type": "code",
   "execution_count": 3,
   "metadata": {
    "collapsed": false
   },
   "outputs": [],
   "source": [
    "client = pymongo.MongoClient(MONGO_URI)\n",
    "db = client[MONGO_DB]\n",
    "collection = db['news']"
   ]
  },
  {
   "cell_type": "code",
   "execution_count": 4,
   "metadata": {
    "collapsed": false
   },
   "outputs": [
    {
     "data": {
      "text/html": [
       "<div>\n",
       "<style scoped>\n",
       "    .dataframe tbody tr th:only-of-type {\n",
       "        vertical-align: middle;\n",
       "    }\n",
       "\n",
       "    .dataframe tbody tr th {\n",
       "        vertical-align: top;\n",
       "    }\n",
       "\n",
       "    .dataframe thead th {\n",
       "        text-align: right;\n",
       "    }\n",
       "</style>\n",
       "<table border=\"1\" class=\"dataframe\">\n",
       "  <thead>\n",
       "    <tr style=\"text-align: right;\">\n",
       "      <th></th>\n",
       "      <th>_id</th>\n",
       "      <th>text</th>\n",
       "    </tr>\n",
       "  </thead>\n",
       "  <tbody>\n",
       "    <tr>\n",
       "      <th>0</th>\n",
       "      <td>5aa2affd1ca8146d0ab2cc9e</td>\n",
       "      <td>Россия может обратиться в суд ВТО из-за введен...</td>\n",
       "    </tr>\n",
       "    <tr>\n",
       "      <th>1</th>\n",
       "      <td>5aa2affd1ca8146d0ab2cc9f</td>\n",
       "      <td>В Пентагоне допустили возможность уничтожения ...</td>\n",
       "    </tr>\n",
       "    <tr>\n",
       "      <th>2</th>\n",
       "      <td>5aa2affd1ca8146d0c6e2103</td>\n",
       "      <td>Председатель Стратегического командования Воор...</td>\n",
       "    </tr>\n",
       "    <tr>\n",
       "      <th>3</th>\n",
       "      <td>5aa2affd1ca8146d0c6e2104</td>\n",
       "      <td>Еврокомиссия одобрила предложение предоставить...</td>\n",
       "    </tr>\n",
       "    <tr>\n",
       "      <th>4</th>\n",
       "      <td>5aa2affd1ca8146d0ab2cca0</td>\n",
       "      <td>Немецкий производитель одежды и обуви для спор...</td>\n",
       "    </tr>\n",
       "  </tbody>\n",
       "</table>\n",
       "</div>"
      ],
      "text/plain": [
       "                        _id                                               text\n",
       "0  5aa2affd1ca8146d0ab2cc9e  Россия может обратиться в суд ВТО из-за введен...\n",
       "1  5aa2affd1ca8146d0ab2cc9f  В Пентагоне допустили возможность уничтожения ...\n",
       "2  5aa2affd1ca8146d0c6e2103  Председатель Стратегического командования Воор...\n",
       "3  5aa2affd1ca8146d0c6e2104  Еврокомиссия одобрила предложение предоставить...\n",
       "4  5aa2affd1ca8146d0ab2cca0  Немецкий производитель одежды и обуви для спор..."
      ]
     },
     "execution_count": 4,
     "metadata": {},
     "output_type": "execute_result"
    }
   ],
   "source": [
    "news = pd.DataFrame(list(collection.find()))\n",
    "news.head()"
   ]
  },
  {
   "cell_type": "code",
   "execution_count": 5,
   "metadata": {
    "collapsed": false
   },
   "outputs": [],
   "source": [
    "news['text'] = news['text'].str.replace('\\xa0', ' ').replace('\\n', '')\n",
    "news['text'] = news['text'].str.replace('\\n', '')"
   ]
  },
  {
   "cell_type": "code",
   "execution_count": 6,
   "metadata": {
    "collapsed": true
   },
   "outputs": [],
   "source": [
    "tfidf = TfidfVectorizer(stop_words=stop, ngram_range=(1, 3), preprocessor=lemmatize)"
   ]
  },
  {
   "cell_type": "code",
   "execution_count": 7,
   "metadata": {
    "collapsed": false
   },
   "outputs": [],
   "source": [
    "tfidf_matrix = tfidf.fit_transform(news['text'])"
   ]
  },
  {
   "cell_type": "code",
   "execution_count": 63,
   "metadata": {
    "collapsed": false
   },
   "outputs": [
    {
     "name": "stdout",
     "output_type": "stream",
     "text": [
      "\n"
     ]
    }
   ],
   "source": [
    "duplicates = []\n",
    "squares = np.asarray(csr_matrix.sum(csr_matrix.power(tfidf_matrix, 2), axis=1))\n",
    "lengths = squares ** 0.5\n",
    "for i in tqdm_notebook(range(1, tfidf_matrix.shape[0])):\n",
    "    rolling_matrix = csr_matrix(vstack((tfidf_matrix[i:], tfidf_matrix[:i])))\n",
    "    vec_mul = csr_matrix.sum(csr_matrix.multiply(tfidf_matrix, rolling_matrix), axis=1)\n",
    "    sim = vec_mul / (lengths * np.roll(lengths, i) + 1e-8)\n",
    "    indexes = np.argwhere(sim > 0.9)[:, 0]\n",
    "    duplicates += list(zip(indexes, (indexes+i)%tfidf_matrix.shape[0]))"
   ]
  },
  {
   "cell_type": "code",
   "execution_count": 65,
   "metadata": {
    "collapsed": false
   },
   "outputs": [
    {
     "data": {
      "text/plain": [
       "73802"
      ]
     },
     "execution_count": 65,
     "metadata": {},
     "output_type": "execute_result"
    }
   ],
   "source": [
    "len(duplicates)"
   ]
  },
  {
   "cell_type": "code",
   "execution_count": 60,
   "metadata": {
    "collapsed": false
   },
   "outputs": [
    {
     "data": {
      "text/plain": [
       "(40620, 40640)"
      ]
     },
     "execution_count": 60,
     "metadata": {},
     "output_type": "execute_result"
    }
   ],
   "source": [
    "duplicates[96]"
   ]
  },
  {
   "cell_type": "code",
   "execution_count": 61,
   "metadata": {
    "collapsed": false
   },
   "outputs": [
    {
     "data": {
      "text/plain": [
       "'Россия, Евросоюз и Украина договорились о зимних поставках газа Киеву. Об этом сообщает вечером в пятницу, 25 сентября,  со ссылкой на информированный источник в кулуарах трехсторонней министерской  в Брюсселе.«Принципиальная договоренность по \"зимнему пакету\" достигнута, мы рассчитываем на скорое подписание документов», — сказал источник, не уточнив детали соглашения.Ранее 25 сентября министр энергетики Украины Владимир Демчишин , что новая цена на газ, предложенная Россией, «ближе к справедливому уровню». Более подробно комментировать возможное соглашение он отказался. В свою очередь, министр энергетики России Александр Новак рассказал, что размер скидки на газ для Украины составляет примерно 20 долларов за тысячу кубометров.24 сентября премьер-министр России Дмитрий Медведев подписал постановление, согласно которому цена на газ для Киева установлена на уровне цен для стран Евросоюза, сопредельных с Украиной. Из документа следует, что стоимость топлива составит 227,36 доллара за тысячу кубометров.Скидка на газ для Украины на четвертый квартал составила 24,64 доллара за тысячу кубометров при контрактной цене 252 доллара за тысячу кубометров. Однако сейчас контрактная цена близка к 248 долларам. В этом случае скидка составит 20,64 доллара.'"
      ]
     },
     "execution_count": 61,
     "metadata": {},
     "output_type": "execute_result"
    }
   ],
   "source": [
    "news.iloc[40620, 1]"
   ]
  },
  {
   "cell_type": "code",
   "execution_count": 62,
   "metadata": {
    "collapsed": false
   },
   "outputs": [
    {
     "data": {
      "text/plain": [
       "'Трехсторонние переговоры России, ЕС и Украины начались в Брюсселе. Об этом сообщил источник в европейской делегации в кулуарах встречи, передает . Он подтвердил, что «все участники переговоров нацелены на подписание сегодня финального соглашения о ценах и условиях поставок и транзита российского газа».Министр энергетики Украины Владимир Демчишин ранее заявил, что новая цена на газ, предложенная Россией, «ближе к справедливому уровню». Более подробно комментировать возможное соглашение он отказался.В свою очередь, министр энергетики России Александр Новак рассказал, что размер скидки на газ для Украины составляет примерно 20 долларов за тысячу кубометров.24 сентября премьер-министр России Дмитрий Медведев подписал постановление, согласно которому цена на газ для Киева установлена на уровне цен для стран Евросоюза, сопредельных с Украиной. Из документа следует, что стоимость топлива составит 227,36 доллара за тысячу кубометров.Скидка на газ для Украины на четвертый квартал составила 24,64 доллара за тысячу кубометров при контрактной цене 252 доллара за тысячу кубометров. Однако сейчас контрактная цена близка к 248 долларам. В этом случае скидка составит 20,64 доллара.'"
      ]
     },
     "execution_count": 62,
     "metadata": {},
     "output_type": "execute_result"
    }
   ],
   "source": [
    "news.iloc[40640, 1]"
   ]
  },
  {
   "cell_type": "code",
   "execution_count": null,
   "metadata": {
    "collapsed": true
   },
   "outputs": [],
   "source": []
  }
 ],
 "metadata": {
  "kernelspec": {
   "display_name": "Python 3",
   "language": "python",
   "name": "python3"
  },
  "language_info": {
   "codemirror_mode": {
    "name": "ipython",
    "version": 3
   },
   "file_extension": ".py",
   "mimetype": "text/x-python",
   "name": "python",
   "nbconvert_exporter": "python",
   "pygments_lexer": "ipython3",
   "version": "3.6.0"
  }
 },
 "nbformat": 4,
 "nbformat_minor": 1
}
